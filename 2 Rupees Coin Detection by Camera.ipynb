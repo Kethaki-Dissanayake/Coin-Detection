{
 "cells": [
  {
   "cell_type": "code",
   "execution_count": null,
   "id": "3229a43b",
   "metadata": {},
   "outputs": [],
   "source": [
    "import cv2\n",
    "\n",
    "#Connecting to web cam to capture images\n",
    "source=cv2.VideoCapture(0) \n",
    "\n",
    "while(True):\n",
    "    \n",
    "    ret,img=source.read() #Getting images from camera\n",
    "    #print(ret)\n",
    "    \n",
    "    if(ret==False):\n",
    "        break\n",
    "    \n",
    "    imgray = cv2.cvtColor(img, cv2.COLOR_BGR2GRAY)\n",
    "    ret, thresh = cv2.threshold(imgray, 80, 255,cv2.THRESH_BINARY)\n",
    "\n",
    "    contours, hierarchy = cv2.findContours(thresh, cv2.RETR_TREE, cv2.CHAIN_APPROX_SIMPLE)\n",
    "\n",
    "    for cnt in contours:\n",
    "        area=cv2.contourArea(cnt)\n",
    "        print(area)\n",
    "        if(area>16000):\n",
    "            cv2.drawContours(img, [cnt], -1, (0,255,255), 2)\n",
    "            \n",
    "            #drawing bounding retangle in Red color with 2 of thickness\n",
    "            x,y,w,h = cv2.boundingRect(cnt) \n",
    "            print(x,y,w,h)\n",
    "            cv2.rectangle(img,(x,y),(x+w,y+h),(0,0,255),2)\n",
    "\n",
    "    cv2.imshow('thresh',thresh)\n",
    "    cv2.imshow('img',img)\n",
    "    key=cv2.waitKey(10)\n",
    "    \n",
    "    if(key==27):\n",
    "        break\n",
    "    \n",
    "cv2.destroyAllWindows()"
   ]
  },
  {
   "cell_type": "code",
   "execution_count": 1,
   "id": "84e17340",
   "metadata": {},
   "outputs": [],
   "source": []
  },
  {
   "cell_type": "code",
   "execution_count": null,
   "id": "1bc0b38a",
   "metadata": {},
   "outputs": [],
   "source": []
  },
  {
   "cell_type": "code",
   "execution_count": null,
   "id": "0269d3b5",
   "metadata": {},
   "outputs": [],
   "source": [
    "\n"
   ]
  },
  {
   "cell_type": "code",
   "execution_count": null,
   "id": "afaa8a50",
   "metadata": {},
   "outputs": [],
   "source": []
  },
  {
   "cell_type": "code",
   "execution_count": null,
   "id": "841be172",
   "metadata": {},
   "outputs": [],
   "source": []
  },
  {
   "cell_type": "code",
   "execution_count": null,
   "id": "f7de785b",
   "metadata": {},
   "outputs": [],
   "source": []
  },
  {
   "cell_type": "code",
   "execution_count": null,
   "id": "f818897e",
   "metadata": {},
   "outputs": [],
   "source": []
  }
 ],
 "metadata": {
  "kernelspec": {
   "display_name": "Python 3",
   "language": "python",
   "name": "python3"
  },
  "language_info": {
   "codemirror_mode": {
    "name": "ipython",
    "version": 3
   },
   "file_extension": ".py",
   "mimetype": "text/x-python",
   "name": "python",
   "nbconvert_exporter": "python",
   "pygments_lexer": "ipython3",
   "version": "3.8.8"
  }
 },
 "nbformat": 4,
 "nbformat_minor": 5
}
